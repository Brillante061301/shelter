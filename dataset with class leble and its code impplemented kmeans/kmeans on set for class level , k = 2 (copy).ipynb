{
 "cells": [
  {
   "cell_type": "code",
   "execution_count": 7,
   "id": "fb29e36c",
   "metadata": {},
   "outputs": [],
   "source": [
    "import pandas as pd\n",
    "from sklearn.cluster import KMeans"
   ]
  },
  {
   "cell_type": "code",
   "execution_count": 46,
   "id": "2be8fa12",
   "metadata": {},
   "outputs": [
    {
     "data": {
      "text/plain": [
       "Index(['acount_no', 'pin', 'ifsc', 'vote id avail',\n",
       "       'school_ Burnpur Riverside School, Burnpur',\n",
       "       'school_ North point public school,Chanda',\n",
       "       'school_D.A.V public school, Durgapur',\n",
       "       'school_D.A.V public school, asansol', 'school_Delhi public school',\n",
       "       'school_Dhirubhai ambani public school, Mumbai',\n",
       "       'school_Hemsheela Public School, Durgapur',\n",
       "       'school_Indira Gandhi girls school, Delhi',\n",
       "       'school_La Martine Boys, Kolkata', 'school_La Martine boys school',\n",
       "       'school_Loreto convent school',\n",
       "       'school_Narayan group of schools, asansol',\n",
       "       'school_Ramkrishna mission, Asansol', 'school_St. Patricks school',\n",
       "       'school_St. Vincents school',\n",
       "       'school_Uma Rani gorai mohila Kalyan, Asansol',\n",
       "       'school_army school , shiliguri',\n",
       "       'school_guru govind Singh public school, Chandigarh',\n",
       "       'school_national gems higher secondary school, KolkataAG Church , Sodepoore',\n",
       "       'location_address_0', 'location_address_east', 'location_address_north',\n",
       "       'location_address_south', 'location_address_west', 'med_0',\n",
       "       'med_ antidepressants', 'med_ antiemetics', 'med_analgesics',\n",
       "       'med_antacids', 'med_anti-inflammatory', 'med_antianxiety drugs',\n",
       "       'med_antiarrhythmics', 'med_antibacterial', 'med_antibiotics',\n",
       "       'med_anticoagulant', 'med_anticonvulsant', 'med_antidiarrheals',\n",
       "       'med_antifungals', 'med_antihypertensives', 'med_antineoplastic',\n",
       "       'med_antipsychotics', 'med_antipyretics', 'med_antivirals',\n",
       "       'med_barbiturates', 'med_beta-blockers', 'med_bronchodilators',\n",
       "       'med_cold cures', 'med_corticosteroids', 'med_cough suppressants',\n",
       "       'med_cytotoxics', 'med_decongestants', 'med_diuretics',\n",
       "       'med_expectorant', 'med_hormones', 'med_hypoglycemics',\n",
       "       'med_immunosuppressives', 'med_laxatives', 'med_muscle relaxants',\n",
       "       'med_sedatives', 'med_sex hormones', 'med_sleeping drugs',\n",
       "       'med_thrombolytic', 'med_tranquilizer', 'med_vitamins', 'pan if avail'],\n",
       "      dtype='object')"
      ]
     },
     "execution_count": 46,
     "metadata": {},
     "output_type": "execute_result"
    }
   ],
   "source": [
    "data = pd.read_csv('sample_transition_encoded.csv')\n",
    "\n",
    "\n",
    "data = pd.DataFrame(data)\n",
    "data1 = data.drop(['date_of_birth'],axis = 1)\n",
    "data1\n",
    "# data['date_ob'] = pd.to_datetime(data['date_of_birth'], format = \"%m/%d/%y\")\n",
    "\n",
    "kmeans = KMeans(n_clusters = 2)\n",
    "kmeans.fit(data1)\n",
    "d = data1\n",
    "data1\n",
    "# d1 = d.drop(['Unnamed: 0'],axis = 1)\n",
    "d1.columns"
   ]
  },
  {
   "cell_type": "code",
   "execution_count": 47,
   "id": "d4b6f278",
   "metadata": {},
   "outputs": [],
   "source": [
    "lables = kmeans.predict(data1)\n",
    "centroied = kmeans.cluster_centers_\n",
    "lables\n",
    "lables = pd.Series(lables)\n",
    "lables\n",
    "d1['class_leble'] = pd.Series(lables)\n",
    "# data1\n",
    "d1"
   ]
  },
  {
   "cell_type": "code",
   "execution_count": 49,
   "id": "5b71b2a1",
   "metadata": {},
   "outputs": [],
   "source": [
    "d1.to_csv('dataset witrh class level after applying kmeans.csv')"
   ]
  }
 ],
 "metadata": {
  "kernelspec": {
   "display_name": "Python 3 (ipykernel)",
   "language": "python",
   "name": "python3"
  },
  "language_info": {
   "codemirror_mode": {
    "name": "ipython",
    "version": 3
   },
   "file_extension": ".py",
   "mimetype": "text/x-python",
   "name": "python",
   "nbconvert_exporter": "python",
   "pygments_lexer": "ipython3",
   "version": "3.8.10"
  }
 },
 "nbformat": 4,
 "nbformat_minor": 5
}
